{
 "cells": [
  {
   "cell_type": "code",
   "execution_count": 1,
   "metadata": {},
   "outputs": [
    {
     "name": "stderr",
     "output_type": "stream",
     "text": [
      "d:\\Desktop Backup\\Python_Practice\\GeminiPro_Project6\\.venv\\Lib\\site-packages\\tqdm\\auto.py:21: TqdmWarning: IProgress not found. Please update jupyter and ipywidgets. See https://ipywidgets.readthedocs.io/en/stable/user_install.html\n",
      "  from .autonotebook import tqdm as notebook_tqdm\n"
     ]
    }
   ],
   "source": [
    "import google.generativeai as genai\n",
    "from apikey1 import GEMINI_API_KEY"
   ]
  },
  {
   "cell_type": "code",
   "execution_count": 6,
   "metadata": {},
   "outputs": [],
   "source": [
    "genai.configure(api_key= GEMINI_API_KEY)\n",
    "\n",
    "# Create the model\n",
    "# See https://ai.google.dev/api/python/google/generativeai/GenerativeModel\n",
    "generation_config = {\n",
    "  \"temperature\": 1,\n",
    "  \"top_p\": 0.95,\n",
    "  \"top_k\": 64,\n",
    "  \"max_output_tokens\": 8192,\n",
    "  \"response_mime_type\": \"text/plain\",\n",
    "}\n",
    "\n",
    "model = genai.GenerativeModel(\n",
    "  model_name=\"gemini-1.5-flash\",\n",
    "  generation_config=generation_config,\n",
    "  # safety_settings = Adjust safety settings\n",
    "  # See https://ai.google.dev/gemini-api/docs/safety-settings\n",
    ")\n",
    "\n",
    "chat_session = model.start_chat(\n",
    "  history=[\n",
    "    {\n",
    "      \"role\": \"user\",\n",
    "      \"parts\": [\n",
    "        \"AI\\n\",\n",
    "      ],\n",
    "    },\n",
    "    {\n",
    "      \"role\": \"model\",\n",
    "      \"parts\": [\n",
    "        \"\\\"AI\\\" stands for **Artificial Intelligence**. It's a broad field of computer science that focuses on creating intelligent machines capable of performing tasks that typically require human intelligence\",\n",
    "      ],\n",
    "    },\n",
    "  ]\n",
    ")"
   ]
  },
  {
   "cell_type": "code",
   "execution_count": 3,
   "metadata": {},
   "outputs": [
    {
     "name": "stdout",
     "output_type": "stream",
     "text": [
      "Read file and saved in text\n"
     ]
    }
   ],
   "source": [
    "filename = r\"D:\\Desktop Backup\\Python_Practice\\NVIDIA_Project\\extracted_text.txt\"\n",
    "try:\n",
    "    text = \"\"\n",
    "    with open( filename, 'r') as file:\n",
    "        for line in file:\n",
    "            text += line\n",
    "    print(\"Read file and saved in text\")\n",
    "except FileNotFoundError:\n",
    "    print(\"File not found!\")\n",
    "except IOError:\n",
    "    print(\"Error reading the file!\")"
   ]
  },
  {
   "cell_type": "code",
   "execution_count": 8,
   "metadata": {},
   "outputs": [],
   "source": [
    "prompt = f\"\"\"\n",
    "Summarize the text and create markdown file keeping all important topic subtopic and description.\n",
    "```{text}```\n",
    "\"\"\""
   ]
  },
  {
   "cell_type": "code",
   "execution_count": 9,
   "metadata": {},
   "outputs": [
    {
     "name": "stdout",
     "output_type": "stream",
     "text": [
      "```markdown\n",
      "# NISM-Series-X-A: Investment Adviser (Level 1) - Indian Financial Markets Summary\n",
      "\n",
      "This document summarizes Chapter 1 of the NISM-Series-X-A Investment Adviser (Level 1) Certification Examination, focusing on the Indian financial market.\n",
      "\n",
      "## 1.1 The Indian Economy\n",
      "\n",
      "* **Topic:** Transformation of the Indian Economy\n",
      "* **Description:** The Indian economy has transitioned from an agricultural base to one where services and manufacturing dominate (contributing to ¾ of GDP).  A robust financial system is crucial for supporting this growth by providing access to financial and real resources.  Key components include the banking sector (credit, secure transactions, savings channeling), securities markets (fundraising for businesses), foreign exchange markets (import/export risk management), and commodity markets (price risk mitigation for producers and consumers).  A well-developed insurance sector is also vital for protecting individuals and fostering savings/investment.\n",
      "\n",
      "\n",
      "## 1.2 The Indian Financial Markets\n",
      "\n",
      "* **Topic:** Key Features of Indian Financial Markets\n",
      "* **Subtopic:** Resource Allocation and Transfer\n",
      "* **Description:** Financial markets efficiently allocate and transfer resources for productive economic activities. Businesses, governments, and households both use and provide funds, with intermediaries (banks, financial institutions, mutual funds, insurance companies) facilitating this transfer.  Efficient markets ensure cost-effective fund transfers, information dissemination, liquidity, and exit options for investors.  They are comprised of money markets (short-term) and securities/capital markets (long-term).  Primary markets handle new security issuance, while secondary markets allow for trading of existing securities.  Various market participants (banks, financial institutions, brokers, custodians, etc.) contribute to market function.\n",
      "\n",
      "## 1.3 Structure of Financial Markets in India\n",
      "\n",
      "* **Topic:** Structure of Indian Financial Markets\n",
      "* **Subtopic:** Banking System\n",
      "* **Description:** The banking system is central to India's financial structure.  The Reserve Bank of India (RBI) acts as the regulator and monetary authority, licensing banks, establishing regulations, and controlling credit through tools like SLR and CRR.  Other apex institutions serve specific sectors (EXIM Bank for export/import, NABARD for rural development, NHB for housing). Commercial banks (public, private, foreign, regional rural banks) and cooperative credit institutions cater to various needs.  The primary banking function is accepting deposits and providing credit based on creditworthiness. Banks also offer third-party financial products and services.\n",
      "\n",
      "* **Topic:** Structure of Indian Financial Markets\n",
      "* **Subtopic:** Securities Market\n",
      "* **Description:** The securities market provides a structured mechanism for capital flow between savers (households, institutions) and businesses/governments.  Securities represent the terms of this exchange.  The market is divided into primary (new issue) and secondary (trading of existing securities) markets.  Key players include issuers, investors (retail and institutional), and intermediaries.  The entire process is subject to regulatory oversight.\n",
      "\n",
      "* **Topic:** Structure of Indian Financial Markets\n",
      "* **Subtopic:** Commodities Market\n",
      "* **Description:** Commodity markets facilitate transactions in agricultural, industrial, and precious metal commodities. Trading occurs in cash markets (immediate delivery) and futures/forward markets (future settlement).  Exchange-traded futures contracts minimize counterparty risk through standardization and risk management measures.  National commodity exchanges (MCX, NCDEX, NMCE) and associations registered with the Forward Markets Commission (FMC) operate in this market.  Participants include hedgers, arbitrageurs, and speculators.\n",
      "\n",
      "* **Topic:** Structure of Indian Financial Markets\n",
      "* **Subtopic:** Foreign Exchange Market\n",
      "* **Description:** The foreign exchange market determines currency values relative to each other (currency pairs).  It includes spot (immediate) and forward (future settlement) markets.  The RBI publishes reference rates.  Derivatives (futures, options, swaps) allow hedgers, speculators, and arbitrageurs to manage or exploit currency price movements.  Exchanges like NSE and BSE facilitate currency derivatives trading.\n",
      "\n",
      "* **Topic:** Structure of Indian Financial Markets\n",
      "* **Subtopic:** Insurance Market\n",
      "* **Description:** The Indian insurance market consists of life and general insurance segments.  Life insurance products include traditional, variable, and unit-linked options.  General insurance covers motor, health, travel, etc.  IRDA regulates the sector.  Distribution channels include agents (individual and corporate), brokers, and banks.  Insurance penetration remains low.\n",
      "\n",
      "* **Topic:** Structure of Indian Financial Markets\n",
      "* **Subtopic:** Pension Market\n",
      "* **Description:**  India's pension industry is characterized by a growing elderly population and a large informal employment sector.  The government has shifted from a defined benefit to a defined contribution pension system.  The National Pension System (NPS) is a defined contribution scheme, supplemented by other voluntary plans.  PFRDA regulates the pension market.\n",
      "\n",
      "\n",
      "## 1.4 Role of Participants in the Financial Markets\n",
      "\n",
      "This section details the roles of various market participants, including stock exchanges, depository participants, custodians, stockbrokers, investment banks, commercial banks, insurance companies, pension funds, asset management companies, portfolio managers, and investment advisors/distributors.  Each description highlights their function and contribution to the market's efficiency.\n",
      "\n",
      "\n",
      "## 1.5 Regulators of Financial Markets\n",
      "\n",
      "This section describes the regulatory bodies overseeing different segments of the Indian financial market:\n",
      "\n",
      "* **Ministry of Finance:** Oversees banking, insurance, pension, and capital markets.\n",
      "* **Ministry of Corporate Affairs:** Regulates corporate sector activities, including security issuance.\n",
      "* **Registrar of Companies (RoC):** Registers companies and ensures compliance with the Companies Act.\n",
      "* **Reserve Bank of India (RBI):** Regulates money markets, government securities, and the banking system; conducts monetary, forex, and credit policies.\n",
      "* **Securities and Exchange Board of India (SEBI):** Chief regulator of securities markets, protecting investor interests and facilitating market growth.\n",
      "* **Insurance Regulatory and Development Authority (IRDA):** Regulates the insurance sector.\n",
      "* **Pension Fund Regulatory and Development Authority (PFRDA):** Regulates the pension sector, particularly the NPS.\n",
      "* **Forward Markets Commission (FMC):** Oversees futures and forward trading in commodities.\n",
      "\n",
      "```\n",
      "\n"
     ]
    }
   ],
   "source": [
    "response = chat_session.send_message(prompt)\n",
    "print(response.text)"
   ]
  }
 ],
 "metadata": {
  "kernelspec": {
   "display_name": ".venv",
   "language": "python",
   "name": "python3"
  },
  "language_info": {
   "codemirror_mode": {
    "name": "ipython",
    "version": 3
   },
   "file_extension": ".py",
   "mimetype": "text/x-python",
   "name": "python",
   "nbconvert_exporter": "python",
   "pygments_lexer": "ipython3",
   "version": "3.12.1"
  }
 },
 "nbformat": 4,
 "nbformat_minor": 2
}
